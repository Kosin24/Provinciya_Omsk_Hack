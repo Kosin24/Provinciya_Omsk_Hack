{
 "cells": [
  {
   "cell_type": "code",
   "execution_count": null,
   "id": "28142649-7611-4059-b559-b1cc270a513b",
   "metadata": {},
   "outputs": [],
   "source": []
  },
  {
   "cell_type": "markdown",
   "id": "5b965403-47b0-4cc3-9320-c64e57373081",
   "metadata": {},
   "source": [
    "# Решение команды Provinciya для кейса \"В продакшен - зарплата\", хакатона ИИ Омск. Раздел: Предсказание вакансии"
   ]
  },
  {
   "cell_type": "markdown",
   "id": "a010dd53-5682-4761-ae42-5e7681c9e9f9",
   "metadata": {
    "tags": []
   },
   "source": [
    "## Вступительная база"
   ]
  },
  {
   "cell_type": "markdown",
   "id": "34d620fd-a314-43d9-a72a-ed29b7a489b0",
   "metadata": {
    "jp-MarkdownHeadingCollapsed": true,
    "tags": []
   },
   "source": [
    "### Установка модулей"
   ]
  },
  {
   "cell_type": "markdown",
   "id": "0ac7c452-b816-439f-81bc-418f6be94893",
   "metadata": {
    "tags": []
   },
   "source": [
    "### Подключение библиотек"
   ]
  },
  {
   "cell_type": "code",
   "execution_count": 89,
   "id": "8ead1247-3312-4961-a9c9-f808b991675b",
   "metadata": {
    "execution": {
     "iopub.execute_input": "2024-09-07T11:43:40.438150Z",
     "iopub.status.busy": "2024-09-07T11:43:40.437342Z",
     "iopub.status.idle": "2024-09-07T11:43:40.449679Z",
     "shell.execute_reply": "2024-09-07T11:43:40.449133Z",
     "shell.execute_reply.started": "2024-09-07T11:43:40.438125Z"
    },
    "tags": []
   },
   "outputs": [],
   "source": [
    "import pandas as pd\n",
    "from transformers import AutoTokenizer, AutoModel\n",
    "import torch\n",
    "from sklearn.metrics.pairwise import cosine_similarity\n",
    "import numpy as np"
   ]
  },
  {
   "cell_type": "markdown",
   "id": "a9a18e1c-e884-4962-b06f-f4d23e5240f8",
   "metadata": {
    "jp-MarkdownHeadingCollapsed": true,
    "tags": []
   },
   "source": [
    "### Настройки отображения Pandas"
   ]
  },
  {
   "cell_type": "code",
   "execution_count": 2,
   "id": "88fa0390-4edd-47ad-a2db-addde254de02",
   "metadata": {
    "execution": {
     "iopub.execute_input": "2024-09-07T09:29:32.693577Z",
     "iopub.status.busy": "2024-09-07T09:29:32.692698Z",
     "iopub.status.idle": "2024-09-07T09:29:32.704957Z",
     "shell.execute_reply": "2024-09-07T09:29:32.704333Z",
     "shell.execute_reply.started": "2024-09-07T09:29:32.693549Z"
    },
    "tags": []
   },
   "outputs": [],
   "source": [
    "pd.set_option('display.max_columns', 1500)\n",
    "pd.set_option('display.max_rows', 1500)"
   ]
  },
  {
   "cell_type": "markdown",
   "id": "372e6a77-1e4f-4659-8f1b-38c9233b14de",
   "metadata": {
    "tags": []
   },
   "source": [
    "## Подготовка датасета"
   ]
  },
  {
   "cell_type": "markdown",
   "id": "2dbe9b0b-937a-45be-839e-86b51334472c",
   "metadata": {
    "jp-MarkdownHeadingCollapsed": true,
    "tags": []
   },
   "source": [
    "### Загрузка"
   ]
  },
  {
   "cell_type": "code",
   "execution_count": 5,
   "id": "0936f043-c463-44f6-bdf8-459193176f4e",
   "metadata": {
    "execution": {
     "iopub.execute_input": "2024-09-07T09:32:44.286152Z",
     "iopub.status.busy": "2024-09-07T09:32:44.285253Z",
     "iopub.status.idle": "2024-09-07T09:33:02.901939Z",
     "shell.execute_reply": "2024-09-07T09:33:02.901292Z",
     "shell.execute_reply.started": "2024-09-07T09:32:44.286118Z"
    },
    "tags": []
   },
   "outputs": [],
   "source": [
    "df_1 = pd.read_csv('TRAIN_RES_1.csv', encoding = 'UTF-8')"
   ]
  },
  {
   "cell_type": "code",
   "execution_count": 6,
   "id": "a460775e-3750-4f78-b781-637afe02f49e",
   "metadata": {
    "execution": {
     "iopub.execute_input": "2024-09-07T09:33:02.903498Z",
     "iopub.status.busy": "2024-09-07T09:33:02.902904Z",
     "iopub.status.idle": "2024-09-07T09:33:19.156478Z",
     "shell.execute_reply": "2024-09-07T09:33:19.155744Z",
     "shell.execute_reply.started": "2024-09-07T09:33:02.903469Z"
    }
   },
   "outputs": [],
   "source": [
    "df_2 = pd.read_csv('TRAIN_RES_2.csv', encoding = 'UTF-8')"
   ]
  },
  {
   "cell_type": "code",
   "execution_count": 24,
   "id": "c6d39f8e-5dc7-4ef7-9935-36bc1af0934f",
   "metadata": {
    "execution": {
     "iopub.execute_input": "2024-09-07T09:38:55.016344Z",
     "iopub.status.busy": "2024-09-07T09:38:55.015411Z",
     "iopub.status.idle": "2024-09-07T09:39:12.291775Z",
     "shell.execute_reply": "2024-09-07T09:39:12.291047Z",
     "shell.execute_reply.started": "2024-09-07T09:38:55.016315Z"
    },
    "tags": []
   },
   "outputs": [],
   "source": [
    "df_3 = pd.read_csv('TRAIN_RES_3.csv', encoding = 'UTF-8')"
   ]
  },
  {
   "cell_type": "code",
   "execution_count": 25,
   "id": "2909b529-6120-49f8-b246-31286b7277d9",
   "metadata": {
    "execution": {
     "iopub.execute_input": "2024-09-07T09:39:12.293650Z",
     "iopub.status.busy": "2024-09-07T09:39:12.292935Z",
     "iopub.status.idle": "2024-09-07T09:39:29.956851Z",
     "shell.execute_reply": "2024-09-07T09:39:29.956191Z",
     "shell.execute_reply.started": "2024-09-07T09:39:12.293622Z"
    },
    "tags": []
   },
   "outputs": [],
   "source": [
    "df_4 = pd.read_csv('TRAIN_RES_4.csv', encoding = 'UTF-8')"
   ]
  },
  {
   "cell_type": "code",
   "execution_count": 26,
   "id": "d7377b1d-c169-4027-83e6-2826cc5eedc5",
   "metadata": {
    "execution": {
     "iopub.execute_input": "2024-09-07T09:39:29.958176Z",
     "iopub.status.busy": "2024-09-07T09:39:29.957604Z",
     "iopub.status.idle": "2024-09-07T09:39:44.879219Z",
     "shell.execute_reply": "2024-09-07T09:39:44.878600Z",
     "shell.execute_reply.started": "2024-09-07T09:39:29.958151Z"
    }
   },
   "outputs": [],
   "source": [
    "df_5 = pd.read_csv('TRAIN_RES_4.csv', encoding = 'UTF-8')"
   ]
  },
  {
   "cell_type": "code",
   "execution_count": 30,
   "id": "a8fbfb1b-8e9e-4c4a-9bfc-3fb8d36e000f",
   "metadata": {
    "execution": {
     "iopub.execute_input": "2024-09-07T09:40:41.428322Z",
     "iopub.status.busy": "2024-09-07T09:40:41.427514Z",
     "iopub.status.idle": "2024-09-07T09:40:42.546065Z",
     "shell.execute_reply": "2024-09-07T09:40:42.545452Z",
     "shell.execute_reply.started": "2024-09-07T09:40:41.428297Z"
    },
    "tags": []
   },
   "outputs": [],
   "source": [
    "df = pd.concat([df_1, df_2, df_3, df_4, df_5], axis = 0)"
   ]
  },
  {
   "cell_type": "markdown",
   "id": "2542781a-20ac-4afe-8001-fa037e367d5a",
   "metadata": {
    "jp-MarkdownHeadingCollapsed": true,
    "tags": []
   },
   "source": [
    "### Дропнем ненужные строки и получим сэмпл, с которым будем работать далее"
   ]
  },
  {
   "cell_type": "code",
   "execution_count": 33,
   "id": "98642d38-a7e9-4419-baa1-e52d42a51e3c",
   "metadata": {
    "execution": {
     "iopub.execute_input": "2024-09-07T09:45:15.172044Z",
     "iopub.status.busy": "2024-09-07T09:45:15.171392Z",
     "iopub.status.idle": "2024-09-07T09:45:33.449707Z",
     "shell.execute_reply": "2024-09-07T09:45:33.449061Z",
     "shell.execute_reply.started": "2024-09-07T09:45:15.172020Z"
    }
   },
   "outputs": [],
   "source": [
    "df.drop_duplicates(inplace = True)"
   ]
  },
  {
   "cell_type": "code",
   "execution_count": 35,
   "id": "f5192021-997c-4abb-b01f-205e93d3a0f3",
   "metadata": {
    "execution": {
     "iopub.execute_input": "2024-09-07T09:45:44.133756Z",
     "iopub.status.busy": "2024-09-07T09:45:44.132971Z",
     "iopub.status.idle": "2024-09-07T09:45:44.143377Z",
     "shell.execute_reply": "2024-09-07T09:45:44.142871Z",
     "shell.execute_reply.started": "2024-09-07T09:45:44.133732Z"
    }
   },
   "outputs": [
    {
     "data": {
      "text/plain": [
       "(5697482, 6)"
      ]
     },
     "execution_count": 35,
     "metadata": {},
     "output_type": "execute_result"
    }
   ],
   "source": [
    "df.shape"
   ]
  },
  {
   "cell_type": "code",
   "execution_count": 37,
   "id": "c062845c-f2ae-4bd2-8449-3c47a30ba71b",
   "metadata": {
    "execution": {
     "iopub.execute_input": "2024-09-07T09:47:28.194029Z",
     "iopub.status.busy": "2024-09-07T09:47:28.193259Z",
     "iopub.status.idle": "2024-09-07T09:47:28.207060Z",
     "shell.execute_reply": "2024-09-07T09:47:28.206552Z",
     "shell.execute_reply.started": "2024-09-07T09:47:28.194005Z"
    }
   },
   "outputs": [
    {
     "data": {
      "text/html": [
       "<div>\n",
       "<style scoped>\n",
       "    .dataframe tbody tr th:only-of-type {\n",
       "        vertical-align: middle;\n",
       "    }\n",
       "\n",
       "    .dataframe tbody tr th {\n",
       "        vertical-align: top;\n",
       "    }\n",
       "\n",
       "    .dataframe thead th {\n",
       "        text-align: right;\n",
       "    }\n",
       "</style>\n",
       "<table border=\"1\" class=\"dataframe\">\n",
       "  <thead>\n",
       "    <tr style=\"text-align: right;\">\n",
       "      <th></th>\n",
       "      <th>achievements</th>\n",
       "      <th>achievements_modified</th>\n",
       "      <th>company_name</th>\n",
       "      <th>demands</th>\n",
       "      <th>id_cv</th>\n",
       "      <th>job_title</th>\n",
       "    </tr>\n",
       "  </thead>\n",
       "  <tbody>\n",
       "    <tr>\n",
       "      <th>0</th>\n",
       "      <td>NaN</td>\n",
       "      <td>NaN</td>\n",
       "      <td>Управление социальной защиты населения Сердобс...</td>\n",
       "      <td>Работала,непосредственно, с федеральными льгот...</td>\n",
       "      <td>52860148-26da-11e8-a184-9122a281f90e</td>\n",
       "      <td>инспектор</td>\n",
       "    </tr>\n",
       "    <tr>\n",
       "      <th>1</th>\n",
       "      <td>NaN</td>\n",
       "      <td>NaN</td>\n",
       "      <td>Администрация города Сердобска</td>\n",
       "      <td>Работа с реестром муниципальной собственности</td>\n",
       "      <td>52860148-26da-11e8-a184-9122a281f90e</td>\n",
       "      <td>инспектор</td>\n",
       "    </tr>\n",
       "    <tr>\n",
       "      <th>2</th>\n",
       "      <td>Работы не закончены, т.к. нет настоящего желан...</td>\n",
       "      <td>Работы не закончены, т.к. нет настоящего желан...</td>\n",
       "      <td>январь 2016-настоящее времяООО «АРТЕЛЬ СТАРАТЕ...</td>\n",
       "      <td>Курирую работы по рудному направлению: соавтор...</td>\n",
       "      <td>e3c857b0-26a0-11e7-bcca-736ab11edb0c</td>\n",
       "      <td>геолог</td>\n",
       "    </tr>\n",
       "    <tr>\n",
       "      <th>3</th>\n",
       "      <td>NaN</td>\n",
       "      <td>NaN</td>\n",
       "      <td>ОАО «Васильевский рудник», п.Мотыгино, Красноя...</td>\n",
       "      <td>ГРП. Документация керна разведочных скважин</td>\n",
       "      <td>e3c857b0-26a0-11e7-bcca-736ab11edb0c</td>\n",
       "      <td>геолог</td>\n",
       "    </tr>\n",
       "    <tr>\n",
       "      <th>4</th>\n",
       "      <td>NaN</td>\n",
       "      <td>NaN</td>\n",
       "      <td>ООО «Артель старателей «ТАЛ»», Усть-Нера, Респ...</td>\n",
       "      <td>Поисково-разведочные работы на месторождении р...</td>\n",
       "      <td>e3c857b0-26a0-11e7-bcca-736ab11edb0c</td>\n",
       "      <td>геолог</td>\n",
       "    </tr>\n",
       "  </tbody>\n",
       "</table>\n",
       "</div>"
      ],
      "text/plain": [
       "                                        achievements  \\\n",
       "0                                                NaN   \n",
       "1                                                NaN   \n",
       "2  Работы не закончены, т.к. нет настоящего желан...   \n",
       "3                                                NaN   \n",
       "4                                                NaN   \n",
       "\n",
       "                               achievements_modified  \\\n",
       "0                                                NaN   \n",
       "1                                                NaN   \n",
       "2  Работы не закончены, т.к. нет настоящего желан...   \n",
       "3                                                NaN   \n",
       "4                                                NaN   \n",
       "\n",
       "                                        company_name  \\\n",
       "0  Управление социальной защиты населения Сердобс...   \n",
       "1                     Администрация города Сердобска   \n",
       "2  январь 2016-настоящее времяООО «АРТЕЛЬ СТАРАТЕ...   \n",
       "3  ОАО «Васильевский рудник», п.Мотыгино, Красноя...   \n",
       "4  ООО «Артель старателей «ТАЛ»», Усть-Нера, Респ...   \n",
       "\n",
       "                                             demands  \\\n",
       "0  Работала,непосредственно, с федеральными льгот...   \n",
       "1      Работа с реестром муниципальной собственности   \n",
       "2  Курирую работы по рудному направлению: соавтор...   \n",
       "3        ГРП. Документация керна разведочных скважин   \n",
       "4  Поисково-разведочные работы на месторождении р...   \n",
       "\n",
       "                                  id_cv  job_title  \n",
       "0  52860148-26da-11e8-a184-9122a281f90e  инспектор  \n",
       "1  52860148-26da-11e8-a184-9122a281f90e  инспектор  \n",
       "2  e3c857b0-26a0-11e7-bcca-736ab11edb0c     геолог  \n",
       "3  e3c857b0-26a0-11e7-bcca-736ab11edb0c     геолог  \n",
       "4  e3c857b0-26a0-11e7-bcca-736ab11edb0c     геолог  "
      ]
     },
     "execution_count": 37,
     "metadata": {},
     "output_type": "execute_result"
    }
   ],
   "source": [
    "df.head()"
   ]
  },
  {
   "cell_type": "code",
   "execution_count": 36,
   "id": "cb0ceb08-47b2-43bf-ab4b-bb16366ba282",
   "metadata": {
    "execution": {
     "iopub.execute_input": "2024-09-07T09:46:04.192830Z",
     "iopub.status.busy": "2024-09-07T09:46:04.192020Z",
     "iopub.status.idle": "2024-09-07T09:46:04.427600Z",
     "shell.execute_reply": "2024-09-07T09:46:04.427043Z",
     "shell.execute_reply.started": "2024-09-07T09:46:04.192807Z"
    },
    "tags": []
   },
   "outputs": [
    {
     "data": {
      "text/plain": [
       "специалист                                            524861\n",
       "менеджер                                              490578\n",
       "бухгалтер                                             311718\n",
       "инженер                                               245139\n",
       "оператор                                              221655\n",
       "                                                       ...  \n",
       "музыковед                                                  1\n",
       "рамповщик                                                  1\n",
       "подручный вальцовщика стана холодного проката труб         1\n",
       "выемщик варочных камер                                     1\n",
       "брейдер                                                    1\n",
       "Name: job_title, Length: 1903, dtype: int64"
      ]
     },
     "execution_count": 36,
     "metadata": {},
     "output_type": "execute_result"
    }
   ],
   "source": [
    "df['job_title'].value_counts()"
   ]
  },
  {
   "cell_type": "code",
   "execution_count": 32,
   "id": "a47623e6-0d5a-4ca1-af74-11c021cfdd35",
   "metadata": {
    "execution": {
     "iopub.execute_input": "2024-09-07T09:43:49.527107Z",
     "iopub.status.busy": "2024-09-07T09:43:49.526474Z",
     "iopub.status.idle": "2024-09-07T09:43:50.079379Z",
     "shell.execute_reply": "2024-09-07T09:43:50.078830Z",
     "shell.execute_reply.started": "2024-09-07T09:43:49.527084Z"
    }
   },
   "outputs": [
    {
     "data": {
      "text/plain": [
       "1903"
      ]
     },
     "execution_count": 32,
     "metadata": {},
     "output_type": "execute_result"
    }
   ],
   "source": [
    "df['job_title'].nunique()"
   ]
  },
  {
   "cell_type": "code",
   "execution_count": 38,
   "id": "f2014b0e-da1b-48e7-954e-6111f4e94756",
   "metadata": {
    "execution": {
     "iopub.execute_input": "2024-09-07T09:49:30.381446Z",
     "iopub.status.busy": "2024-09-07T09:49:30.380516Z",
     "iopub.status.idle": "2024-09-07T09:49:30.408317Z",
     "shell.execute_reply": "2024-09-07T09:49:30.407794Z",
     "shell.execute_reply.started": "2024-09-07T09:49:30.381416Z"
    },
    "tags": []
   },
   "outputs": [
    {
     "data": {
      "text/plain": [
       "(5697482,)"
      ]
     },
     "execution_count": 38,
     "metadata": {},
     "output_type": "execute_result"
    }
   ],
   "source": [
    "df['job_title'].shape"
   ]
  },
  {
   "cell_type": "markdown",
   "id": "f70bd299-9adc-4955-bada-c08247d13d3d",
   "metadata": {},
   "source": [
    "Возможно, стоит убрать часть ниже"
   ]
  },
  {
   "cell_type": "code",
   "execution_count": 40,
   "id": "a33d6523-bf96-400e-a3f7-f341d6793afb",
   "metadata": {
    "execution": {
     "iopub.execute_input": "2024-09-07T09:49:47.172507Z",
     "iopub.status.busy": "2024-09-07T09:49:47.171672Z",
     "iopub.status.idle": "2024-09-07T09:49:47.181574Z",
     "shell.execute_reply": "2024-09-07T09:49:47.181021Z",
     "shell.execute_reply.started": "2024-09-07T09:49:47.172477Z"
    },
    "tags": []
   },
   "outputs": [],
   "source": [
    "grouped = df.groupby('job_title')\n",
    "\n",
    "# Шаг 2: Обработка строк с одинаковым id_cv внутри каждой группы\n",
    "def process_group(group):\n",
    "    # Группировка по id_cv\n",
    "    cv_grouped = group.groupby('id_cv')\n",
    "    \n",
    "    # Для каждой группы с одинаковым id_cv\n",
    "    result = []\n",
    "    for _, cv_group in cv_grouped:\n",
    "        if len(cv_group) > 1:\n",
    "            # Удаляем строки с пропусками в achievements_modified или demands\n",
    "            non_missing = cv_group.dropna(subset=['achievements_modified', 'demands'])\n",
    "            if not non_missing.empty:\n",
    "                result.append(non_missing)\n",
    "            else:\n",
    "                # Если все строки с пропусками, сохраняем оригинальные\n",
    "                result.append(cv_group)\n",
    "        else:\n",
    "            result.append(cv_group)\n",
    "    \n",
    "    # Объединяем все выбранные строки в одну таблицу\n",
    "    return pd.concat(result)"
   ]
  },
  {
   "cell_type": "code",
   "execution_count": 41,
   "id": "1cb95012-8bae-42f2-ad29-61743186b0bc",
   "metadata": {
    "execution": {
     "iopub.execute_input": "2024-09-07T09:50:22.679816Z",
     "iopub.status.busy": "2024-09-07T09:50:22.679046Z",
     "iopub.status.idle": "2024-09-07T10:07:12.056923Z",
     "shell.execute_reply": "2024-09-07T10:07:12.056134Z",
     "shell.execute_reply.started": "2024-09-07T09:50:22.679792Z"
    }
   },
   "outputs": [],
   "source": [
    "sampled_df = grouped.apply(process_group).reset_index(drop=True)"
   ]
  },
  {
   "cell_type": "code",
   "execution_count": 42,
   "id": "85fcc6c4-f872-445c-8cdd-479a12b518fb",
   "metadata": {
    "execution": {
     "iopub.execute_input": "2024-09-07T10:07:12.058764Z",
     "iopub.status.busy": "2024-09-07T10:07:12.058018Z",
     "iopub.status.idle": "2024-09-07T10:07:12.353158Z",
     "shell.execute_reply": "2024-09-07T10:07:12.352560Z",
     "shell.execute_reply.started": "2024-09-07T10:07:12.058742Z"
    }
   },
   "outputs": [
    {
     "data": {
      "text/plain": [
       "1903"
      ]
     },
     "execution_count": 42,
     "metadata": {},
     "output_type": "execute_result"
    }
   ],
   "source": [
    "sampled_df['job_title'].nunique()"
   ]
  },
  {
   "cell_type": "code",
   "execution_count": 43,
   "id": "ff93b1a4-33b5-419f-ae09-2598ebd16df6",
   "metadata": {
    "execution": {
     "iopub.execute_input": "2024-09-07T10:07:12.354520Z",
     "iopub.status.busy": "2024-09-07T10:07:12.353904Z",
     "iopub.status.idle": "2024-09-07T10:07:12.599861Z",
     "shell.execute_reply": "2024-09-07T10:07:12.599289Z",
     "shell.execute_reply.started": "2024-09-07T10:07:12.354500Z"
    }
   },
   "outputs": [
    {
     "data": {
      "text/plain": [
       "специалист                503361\n",
       "менеджер                  469071\n",
       "бухгалтер                 294715\n",
       "инженер                   232610\n",
       "оператор                  217841\n",
       "                           ...  \n",
       "клишист                        1\n",
       "ковровщик                      1\n",
       "верховой доменной печи         1\n",
       "пробист плоской печати         1\n",
       "кооператор                     1\n",
       "Name: job_title, Length: 1903, dtype: int64"
      ]
     },
     "execution_count": 43,
     "metadata": {},
     "output_type": "execute_result"
    }
   ],
   "source": [
    "sampled_df['job_title'].value_counts()"
   ]
  },
  {
   "cell_type": "code",
   "execution_count": 44,
   "id": "65f3b2fa-ee43-4efb-8429-4857c765fba5",
   "metadata": {
    "execution": {
     "iopub.execute_input": "2024-09-07T10:07:12.601674Z",
     "iopub.status.busy": "2024-09-07T10:07:12.601174Z",
     "iopub.status.idle": "2024-09-07T10:07:12.629444Z",
     "shell.execute_reply": "2024-09-07T10:07:12.628927Z",
     "shell.execute_reply.started": "2024-09-07T10:07:12.601654Z"
    }
   },
   "outputs": [
    {
     "data": {
      "text/plain": [
       "(5531858, 6)"
      ]
     },
     "execution_count": 44,
     "metadata": {},
     "output_type": "execute_result"
    }
   ],
   "source": [
    "sampled_df.shape"
   ]
  },
  {
   "cell_type": "code",
   "execution_count": 49,
   "id": "39da79b4-7a00-446c-b0f5-b7d9e56b3291",
   "metadata": {
    "tags": []
   },
   "outputs": [],
   "source": [
    "sampled_df.to_csv('sampled_jobs.csv', index=False)"
   ]
  },
  {
   "cell_type": "markdown",
   "id": "0ca7244d-4a5b-4e84-b9c5-d955a6759b5e",
   "metadata": {
    "tags": []
   },
   "source": [
    "### Аггрегируем собранную информацию"
   ]
  },
  {
   "cell_type": "code",
   "execution_count": 50,
   "id": "2070375b-8143-4540-9033-9419577f2ce0",
   "metadata": {},
   "outputs": [],
   "source": [
    "df = pd.read_csv('sampled_jobs.csv', encoding = 'UTF-8')"
   ]
  },
  {
   "cell_type": "code",
   "execution_count": 53,
   "id": "0b7bd476-7e87-4883-a6ff-d6acd328c9c5",
   "metadata": {
    "execution": {
     "iopub.execute_input": "2024-09-07T10:50:52.199852Z",
     "iopub.status.busy": "2024-09-07T10:50:52.199081Z",
     "iopub.status.idle": "2024-09-07T10:50:52.224226Z",
     "shell.execute_reply": "2024-09-07T10:50:52.223697Z",
     "shell.execute_reply.started": "2024-09-07T10:50:52.199829Z"
    }
   },
   "outputs": [
    {
     "data": {
      "text/html": [
       "<div>\n",
       "<style scoped>\n",
       "    .dataframe tbody tr th:only-of-type {\n",
       "        vertical-align: middle;\n",
       "    }\n",
       "\n",
       "    .dataframe tbody tr th {\n",
       "        vertical-align: top;\n",
       "    }\n",
       "\n",
       "    .dataframe thead th {\n",
       "        text-align: right;\n",
       "    }\n",
       "</style>\n",
       "<table border=\"1\" class=\"dataframe\">\n",
       "  <thead>\n",
       "    <tr style=\"text-align: right;\">\n",
       "      <th></th>\n",
       "      <th>achievements</th>\n",
       "      <th>achievements_modified</th>\n",
       "      <th>company_name</th>\n",
       "      <th>demands</th>\n",
       "      <th>id_cv</th>\n",
       "      <th>job_title</th>\n",
       "    </tr>\n",
       "  </thead>\n",
       "  <tbody>\n",
       "    <tr>\n",
       "      <th>0</th>\n",
       "      <td>NaN</td>\n",
       "      <td>NaN</td>\n",
       "      <td>ООО \"АварКом\"</td>\n",
       "      <td>Выезд на место ДТП. Составление схемы ДТП. Опр...</td>\n",
       "      <td>01235ff0-847f-11ea-a5e5-69632329477c</td>\n",
       "      <td>аварийный комиссар</td>\n",
       "    </tr>\n",
       "    <tr>\n",
       "      <th>1</th>\n",
       "      <td>NaN</td>\n",
       "      <td>NaN</td>\n",
       "      <td>ООО “Сибирская аварийная служба 54”</td>\n",
       "      <td>- Контроль аварийного комиссара при выезде на ...</td>\n",
       "      <td>02101d10-88b5-11ea-93b5-239861b1f67b</td>\n",
       "      <td>аварийный комиссар</td>\n",
       "    </tr>\n",
       "    <tr>\n",
       "      <th>2</th>\n",
       "      <td>NaN</td>\n",
       "      <td>NaN</td>\n",
       "      <td>ООО “Сибирская аварийная служба 54”</td>\n",
       "      <td>- Контроль аварийного комиссара при выезде на ...</td>\n",
       "      <td>02101d10-88b5-11ea-93b5-239861b1f67b</td>\n",
       "      <td>аварийный комиссар</td>\n",
       "    </tr>\n",
       "    <tr>\n",
       "      <th>3</th>\n",
       "      <td>NaN</td>\n",
       "      <td>NaN</td>\n",
       "      <td>ООО\"Автопартнёр Бузулук\"</td>\n",
       "      <td>1. Выезд на место дтп, оформление участников дтп</td>\n",
       "      <td>0506c8e0-2ac7-11e9-9058-037acc02728d</td>\n",
       "      <td>аварийный комиссар</td>\n",
       "    </tr>\n",
       "    <tr>\n",
       "      <th>4</th>\n",
       "      <td>NaN</td>\n",
       "      <td>NaN</td>\n",
       "      <td>ООО \"Крепость\"</td>\n",
       "      <td>Оформление ДТП</td>\n",
       "      <td>070946c0-8450-11ea-a79e-bfd13399602c</td>\n",
       "      <td>аварийный комиссар</td>\n",
       "    </tr>\n",
       "  </tbody>\n",
       "</table>\n",
       "</div>"
      ],
      "text/plain": [
       "  achievements achievements_modified                         company_name  \\\n",
       "0          NaN                   NaN                        ООО \"АварКом\"   \n",
       "1          NaN                   NaN  ООО “Сибирская аварийная служба 54”   \n",
       "2          NaN                   NaN  ООО “Сибирская аварийная служба 54”   \n",
       "3          NaN                   NaN             ООО\"Автопартнёр Бузулук\"   \n",
       "4          NaN                   NaN                       ООО \"Крепость\"   \n",
       "\n",
       "                                             demands  \\\n",
       "0  Выезд на место ДТП. Составление схемы ДТП. Опр...   \n",
       "1  - Контроль аварийного комиссара при выезде на ...   \n",
       "2  - Контроль аварийного комиссара при выезде на ...   \n",
       "3   1. Выезд на место дтп, оформление участников дтп   \n",
       "4                                     Оформление ДТП   \n",
       "\n",
       "                                  id_cv           job_title  \n",
       "0  01235ff0-847f-11ea-a5e5-69632329477c  аварийный комиссар  \n",
       "1  02101d10-88b5-11ea-93b5-239861b1f67b  аварийный комиссар  \n",
       "2  02101d10-88b5-11ea-93b5-239861b1f67b  аварийный комиссар  \n",
       "3  0506c8e0-2ac7-11e9-9058-037acc02728d  аварийный комиссар  \n",
       "4  070946c0-8450-11ea-a79e-bfd13399602c  аварийный комиссар  "
      ]
     },
     "execution_count": 53,
     "metadata": {},
     "output_type": "execute_result"
    }
   ],
   "source": [
    "df.head()"
   ]
  },
  {
   "cell_type": "code",
   "execution_count": 55,
   "id": "629b3529-0e0d-4ebd-ba3c-8a24a5fc7ac6",
   "metadata": {
    "execution": {
     "iopub.execute_input": "2024-09-07T10:52:29.059901Z",
     "iopub.status.busy": "2024-09-07T10:52:29.059077Z",
     "iopub.status.idle": "2024-09-07T10:53:59.368820Z",
     "shell.execute_reply": "2024-09-07T10:53:59.367782Z",
     "shell.execute_reply.started": "2024-09-07T10:52:29.059874Z"
    },
    "tags": []
   },
   "outputs": [],
   "source": [
    "df['user_info'] = df.apply(lambda row: \n",
    "    (str(row['achievements_modified']) if pd.notnull(row['achievements_modified']) else str(row['achievements']) if pd.notnull(row['achievements']) else '') +\n",
    "    (', ' + str(row['company_name']) if pd.notnull(row['company_name']) else '') +\n",
    "    (', ' + str(row['demands']) if pd.notnull(row['demands']) else ''),\n",
    "    axis=1\n",
    ")"
   ]
  },
  {
   "cell_type": "code",
   "execution_count": 57,
   "id": "97bd7ea1-cfd2-4575-9f53-83872ea315e3",
   "metadata": {
    "execution": {
     "iopub.execute_input": "2024-09-07T10:59:15.565372Z",
     "iopub.status.busy": "2024-09-07T10:59:15.564563Z",
     "iopub.status.idle": "2024-09-07T10:59:15.600490Z",
     "shell.execute_reply": "2024-09-07T10:59:15.599451Z",
     "shell.execute_reply.started": "2024-09-07T10:59:15.565349Z"
    },
    "tags": []
   },
   "outputs": [
    {
     "data": {
      "text/html": [
       "<div>\n",
       "<style scoped>\n",
       "    .dataframe tbody tr th:only-of-type {\n",
       "        vertical-align: middle;\n",
       "    }\n",
       "\n",
       "    .dataframe tbody tr th {\n",
       "        vertical-align: top;\n",
       "    }\n",
       "\n",
       "    .dataframe thead th {\n",
       "        text-align: right;\n",
       "    }\n",
       "</style>\n",
       "<table border=\"1\" class=\"dataframe\">\n",
       "  <thead>\n",
       "    <tr style=\"text-align: right;\">\n",
       "      <th></th>\n",
       "      <th>achievements</th>\n",
       "      <th>achievements_modified</th>\n",
       "      <th>company_name</th>\n",
       "      <th>demands</th>\n",
       "      <th>id_cv</th>\n",
       "      <th>job_title</th>\n",
       "      <th>user_info</th>\n",
       "    </tr>\n",
       "  </thead>\n",
       "  <tbody>\n",
       "    <tr>\n",
       "      <th>0</th>\n",
       "      <td>NaN</td>\n",
       "      <td>NaN</td>\n",
       "      <td>ООО \"АварКом\"</td>\n",
       "      <td>Выезд на место ДТП. Составление схемы ДТП. Опр...</td>\n",
       "      <td>01235ff0-847f-11ea-a5e5-69632329477c</td>\n",
       "      <td>аварийный комиссар</td>\n",
       "      <td>, ООО \"АварКом\", Выезд на место ДТП. Составлен...</td>\n",
       "    </tr>\n",
       "    <tr>\n",
       "      <th>1</th>\n",
       "      <td>NaN</td>\n",
       "      <td>NaN</td>\n",
       "      <td>ООО “Сибирская аварийная служба 54”</td>\n",
       "      <td>- Контроль аварийного комиссара при выезде на ...</td>\n",
       "      <td>02101d10-88b5-11ea-93b5-239861b1f67b</td>\n",
       "      <td>аварийный комиссар</td>\n",
       "      <td>, ООО “Сибирская аварийная служба 54”, - Контр...</td>\n",
       "    </tr>\n",
       "    <tr>\n",
       "      <th>2</th>\n",
       "      <td>NaN</td>\n",
       "      <td>NaN</td>\n",
       "      <td>ООО “Сибирская аварийная служба 54”</td>\n",
       "      <td>- Контроль аварийного комиссара при выезде на ...</td>\n",
       "      <td>02101d10-88b5-11ea-93b5-239861b1f67b</td>\n",
       "      <td>аварийный комиссар</td>\n",
       "      <td>, ООО “Сибирская аварийная служба 54”, - Контр...</td>\n",
       "    </tr>\n",
       "    <tr>\n",
       "      <th>3</th>\n",
       "      <td>NaN</td>\n",
       "      <td>NaN</td>\n",
       "      <td>ООО\"Автопартнёр Бузулук\"</td>\n",
       "      <td>1. Выезд на место дтп, оформление участников дтп</td>\n",
       "      <td>0506c8e0-2ac7-11e9-9058-037acc02728d</td>\n",
       "      <td>аварийный комиссар</td>\n",
       "      <td>, ООО\"Автопартнёр Бузулук\", 1. Выезд на место ...</td>\n",
       "    </tr>\n",
       "    <tr>\n",
       "      <th>4</th>\n",
       "      <td>NaN</td>\n",
       "      <td>NaN</td>\n",
       "      <td>ООО \"Крепость\"</td>\n",
       "      <td>Оформление ДТП</td>\n",
       "      <td>070946c0-8450-11ea-a79e-bfd13399602c</td>\n",
       "      <td>аварийный комиссар</td>\n",
       "      <td>, ООО \"Крепость\", Оформление ДТП</td>\n",
       "    </tr>\n",
       "    <tr>\n",
       "      <th>5</th>\n",
       "      <td>нет</td>\n",
       "      <td>нет</td>\n",
       "      <td>ООО «Оргтранс-Авто»</td>\n",
       "      <td>выезд на место дтп, составление схемы дтп, фот...</td>\n",
       "      <td>09131100-beb3-11eb-ae36-ab5d2eb93a75</td>\n",
       "      <td>аварийный комиссар</td>\n",
       "      <td>нет, ООО «Оргтранс-Авто», выезд на место дтп, ...</td>\n",
       "    </tr>\n",
       "    <tr>\n",
       "      <th>6</th>\n",
       "      <td>Открытие филиалов по республике Татарстан и п-...</td>\n",
       "      <td>Открытие филиалов по республике Татарстан и п-...</td>\n",
       "      <td>Региональная Служба Аваркомов</td>\n",
       "      <td>Оформление дтп, обращение в страховую компанию...</td>\n",
       "      <td>091869a0-7bea-11ea-a1d8-b905beff6f7a</td>\n",
       "      <td>аварийный комиссар</td>\n",
       "      <td>Открытие филиалов по республике Татарстан и п-...</td>\n",
       "    </tr>\n",
       "    <tr>\n",
       "      <th>7</th>\n",
       "      <td>NaN</td>\n",
       "      <td>NaN</td>\n",
       "      <td>ООО \"Юравтоцентр\"</td>\n",
       "      <td>Оказание услуг по оформлению дорожного транспо...</td>\n",
       "      <td>0ac09450-9f29-11ea-b210-b905beff6f7a</td>\n",
       "      <td>аварийный комиссар</td>\n",
       "      <td>, ООО \"Юравтоцентр\", Оказание услуг по оформле...</td>\n",
       "    </tr>\n",
       "    <tr>\n",
       "      <th>8</th>\n",
       "      <td>NaN</td>\n",
       "      <td>NaN</td>\n",
       "      <td>ООО «Аварком»</td>\n",
       "      <td>Оформление ДТП, выдача справок с ГИБДД</td>\n",
       "      <td>0fec93b0-cc2c-11e8-9c43-e37b4be0b9ed</td>\n",
       "      <td>аварийный комиссар</td>\n",
       "      <td>, ООО «Аварком», Оформление ДТП, выдача справо...</td>\n",
       "    </tr>\n",
       "    <tr>\n",
       "      <th>9</th>\n",
       "      <td>Успешно справлялся с поставленными планами по ...</td>\n",
       "      <td>Успешно справлялся с поставленными планами по ...</td>\n",
       "      <td>Архангельское бюро оценки, ООО</td>\n",
       "      <td>Продажа юридических услуг участникам ДТП, конс...</td>\n",
       "      <td>16308170-c431-11e9-9b9a-736ab11edb0c</td>\n",
       "      <td>аварийный комиссар</td>\n",
       "      <td>Успешно справлялся с поставленными планами по ...</td>\n",
       "    </tr>\n",
       "  </tbody>\n",
       "</table>\n",
       "</div>"
      ],
      "text/plain": [
       "                                        achievements  \\\n",
       "0                                                NaN   \n",
       "1                                                NaN   \n",
       "2                                                NaN   \n",
       "3                                                NaN   \n",
       "4                                                NaN   \n",
       "5                                                нет   \n",
       "6  Открытие филиалов по республике Татарстан и п-...   \n",
       "7                                                NaN   \n",
       "8                                                NaN   \n",
       "9  Успешно справлялся с поставленными планами по ...   \n",
       "\n",
       "                               achievements_modified  \\\n",
       "0                                                NaN   \n",
       "1                                                NaN   \n",
       "2                                                NaN   \n",
       "3                                                NaN   \n",
       "4                                                NaN   \n",
       "5                                                нет   \n",
       "6  Открытие филиалов по республике Татарстан и п-...   \n",
       "7                                                NaN   \n",
       "8                                                NaN   \n",
       "9  Успешно справлялся с поставленными планами по ...   \n",
       "\n",
       "                          company_name  \\\n",
       "0                        ООО \"АварКом\"   \n",
       "1  ООО “Сибирская аварийная служба 54”   \n",
       "2  ООО “Сибирская аварийная служба 54”   \n",
       "3             ООО\"Автопартнёр Бузулук\"   \n",
       "4                       ООО \"Крепость\"   \n",
       "5                  ООО «Оргтранс-Авто»   \n",
       "6        Региональная Служба Аваркомов   \n",
       "7                    ООО \"Юравтоцентр\"   \n",
       "8                        ООО «Аварком»   \n",
       "9       Архангельское бюро оценки, ООО   \n",
       "\n",
       "                                             demands  \\\n",
       "0  Выезд на место ДТП. Составление схемы ДТП. Опр...   \n",
       "1  - Контроль аварийного комиссара при выезде на ...   \n",
       "2  - Контроль аварийного комиссара при выезде на ...   \n",
       "3   1. Выезд на место дтп, оформление участников дтп   \n",
       "4                                     Оформление ДТП   \n",
       "5  выезд на место дтп, составление схемы дтп, фот...   \n",
       "6  Оформление дтп, обращение в страховую компанию...   \n",
       "7  Оказание услуг по оформлению дорожного транспо...   \n",
       "8             Оформление ДТП, выдача справок с ГИБДД   \n",
       "9  Продажа юридических услуг участникам ДТП, конс...   \n",
       "\n",
       "                                  id_cv           job_title  \\\n",
       "0  01235ff0-847f-11ea-a5e5-69632329477c  аварийный комиссар   \n",
       "1  02101d10-88b5-11ea-93b5-239861b1f67b  аварийный комиссар   \n",
       "2  02101d10-88b5-11ea-93b5-239861b1f67b  аварийный комиссар   \n",
       "3  0506c8e0-2ac7-11e9-9058-037acc02728d  аварийный комиссар   \n",
       "4  070946c0-8450-11ea-a79e-bfd13399602c  аварийный комиссар   \n",
       "5  09131100-beb3-11eb-ae36-ab5d2eb93a75  аварийный комиссар   \n",
       "6  091869a0-7bea-11ea-a1d8-b905beff6f7a  аварийный комиссар   \n",
       "7  0ac09450-9f29-11ea-b210-b905beff6f7a  аварийный комиссар   \n",
       "8  0fec93b0-cc2c-11e8-9c43-e37b4be0b9ed  аварийный комиссар   \n",
       "9  16308170-c431-11e9-9b9a-736ab11edb0c  аварийный комиссар   \n",
       "\n",
       "                                           user_info  \n",
       "0  , ООО \"АварКом\", Выезд на место ДТП. Составлен...  \n",
       "1  , ООО “Сибирская аварийная служба 54”, - Контр...  \n",
       "2  , ООО “Сибирская аварийная служба 54”, - Контр...  \n",
       "3  , ООО\"Автопартнёр Бузулук\", 1. Выезд на место ...  \n",
       "4                   , ООО \"Крепость\", Оформление ДТП  \n",
       "5  нет, ООО «Оргтранс-Авто», выезд на место дтп, ...  \n",
       "6  Открытие филиалов по республике Татарстан и п-...  \n",
       "7  , ООО \"Юравтоцентр\", Оказание услуг по оформле...  \n",
       "8  , ООО «Аварком», Оформление ДТП, выдача справо...  \n",
       "9  Успешно справлялся с поставленными планами по ...  "
      ]
     },
     "execution_count": 57,
     "metadata": {},
     "output_type": "execute_result"
    }
   ],
   "source": [
    "df.head(10)"
   ]
  },
  {
   "cell_type": "code",
   "execution_count": 59,
   "id": "af19ae10-1c87-4694-9036-ace34722dd0d",
   "metadata": {
    "execution": {
     "iopub.execute_input": "2024-09-07T11:01:05.985870Z",
     "iopub.status.busy": "2024-09-07T11:01:05.984998Z",
     "iopub.status.idle": "2024-09-07T11:04:04.393933Z",
     "shell.execute_reply": "2024-09-07T11:04:04.392713Z",
     "shell.execute_reply.started": "2024-09-07T11:01:05.985838Z"
    }
   },
   "outputs": [],
   "source": [
    "df[['id_cv', 'job_title', 'user_info']].to_csv('jobs_data.csv', index=False)"
   ]
  },
  {
   "cell_type": "code",
   "execution_count": 62,
   "id": "3aa1939d-6dd9-48a8-b730-0c5f51c96269",
   "metadata": {
    "execution": {
     "iopub.execute_input": "2024-09-07T11:05:34.895302Z",
     "iopub.status.busy": "2024-09-07T11:05:34.894518Z",
     "iopub.status.idle": "2024-09-07T11:06:26.706520Z",
     "shell.execute_reply": "2024-09-07T11:06:26.705880Z",
     "shell.execute_reply.started": "2024-09-07T11:05:34.895280Z"
    }
   },
   "outputs": [],
   "source": [
    "df = pd.read_csv('jobs_data.csv')"
   ]
  },
  {
   "cell_type": "markdown",
   "id": "f6ec6c71-2ac3-46d1-b80c-d08cf1608600",
   "metadata": {},
   "source": [
    "## Предсказание топ 5 подходящих вакансий с помощью трансформера"
   ]
  },
  {
   "cell_type": "markdown",
   "id": "16c4de23-22b6-4255-9374-c801b6ed2b81",
   "metadata": {
    "tags": []
   },
   "source": [
    "### Синтетические данные для теста"
   ]
  },
  {
   "cell_type": "code",
   "execution_count": 69,
   "id": "fc797470-a87e-4329-9617-67a9e8c37e62",
   "metadata": {
    "execution": {
     "iopub.execute_input": "2024-09-07T11:25:43.956257Z",
     "iopub.status.busy": "2024-09-07T11:25:43.955442Z",
     "iopub.status.idle": "2024-09-07T11:25:44.084508Z",
     "shell.execute_reply": "2024-09-07T11:25:44.083571Z",
     "shell.execute_reply.started": "2024-09-07T11:25:43.956224Z"
    },
    "tags": []
   },
   "outputs": [],
   "source": [
    "df = df.sample(10)"
   ]
  },
  {
   "cell_type": "code",
   "execution_count": 70,
   "id": "6f1483d9-2e61-4656-a08f-74d394297a61",
   "metadata": {
    "execution": {
     "iopub.execute_input": "2024-09-07T11:25:48.768370Z",
     "iopub.status.busy": "2024-09-07T11:25:48.767537Z",
     "iopub.status.idle": "2024-09-07T11:25:48.780104Z",
     "shell.execute_reply": "2024-09-07T11:25:48.779583Z",
     "shell.execute_reply.started": "2024-09-07T11:25:48.768338Z"
    }
   },
   "outputs": [
    {
     "data": {
      "text/html": [
       "<div>\n",
       "<style scoped>\n",
       "    .dataframe tbody tr th:only-of-type {\n",
       "        vertical-align: middle;\n",
       "    }\n",
       "\n",
       "    .dataframe tbody tr th {\n",
       "        vertical-align: top;\n",
       "    }\n",
       "\n",
       "    .dataframe thead th {\n",
       "        text-align: right;\n",
       "    }\n",
       "</style>\n",
       "<table border=\"1\" class=\"dataframe\">\n",
       "  <thead>\n",
       "    <tr style=\"text-align: right;\">\n",
       "      <th></th>\n",
       "      <th>id_cv</th>\n",
       "      <th>job_title</th>\n",
       "      <th>user_info</th>\n",
       "    </tr>\n",
       "  </thead>\n",
       "  <tbody>\n",
       "    <tr>\n",
       "      <th>4991509</th>\n",
       "      <td>664b8370-2a2a-11eb-87f0-bfd13399602c</td>\n",
       "      <td>уборщик</td>\n",
       "      <td>, Государственное бюджетное учреждение здравоо...</td>\n",
       "    </tr>\n",
       "    <tr>\n",
       "      <th>2602721</th>\n",
       "      <td>8d2a5f50-1ae8-11e9-95e0-ef76bd2a03c1</td>\n",
       "      <td>менеджер</td>\n",
       "      <td>, ООО Камышинский завод слесарно-монтажного ин...</td>\n",
       "    </tr>\n",
       "    <tr>\n",
       "      <th>1705935</th>\n",
       "      <td>fdfb73c0-03b9-11eb-9b0b-69632329477c</td>\n",
       "      <td>инспектор</td>\n",
       "      <td>, Внуковская таможня, защита экономических инт...</td>\n",
       "    </tr>\n",
       "    <tr>\n",
       "      <th>1260048</th>\n",
       "      <td>27914f90-be91-11e8-bfef-736ab11edb0c</td>\n",
       "      <td>заместитель</td>\n",
       "      <td>, ФГАОУ ВО \"КФУ им. В.И. Вернадского\", Планиро...</td>\n",
       "    </tr>\n",
       "    <tr>\n",
       "      <th>1926751</th>\n",
       "      <td>f6d085e0-d00b-11ea-87bd-ef76bd2a03c1</td>\n",
       "      <td>комплектовщик</td>\n",
       "      <td>, ОАО Пермский мясокомбинат, Комплектация заяв...</td>\n",
       "    </tr>\n",
       "    <tr>\n",
       "      <th>1613050</th>\n",
       "      <td>f7d34850-4c13-11ea-8c26-037acc02728d</td>\n",
       "      <td>инженер</td>\n",
       "      <td>, ООО \"МПЗ\", Москва, Договорная и рекламационн...</td>\n",
       "    </tr>\n",
       "    <tr>\n",
       "      <th>864430</th>\n",
       "      <td>0c498cb0-80c9-11ea-b710-736ab11edb0c</td>\n",
       "      <td>гардеробщик</td>\n",
       "      <td>, МЛПУ ИРБ стомат.пол-ки, Приём одежды</td>\n",
       "    </tr>\n",
       "    <tr>\n",
       "      <th>1791493</th>\n",
       "      <td>7b8f714a-0662-11e8-8956-037acc02728d</td>\n",
       "      <td>кассир</td>\n",
       "      <td>, ООО \"Салют торг\", работа на кассе, выкладка ...</td>\n",
       "    </tr>\n",
       "    <tr>\n",
       "      <th>3205779</th>\n",
       "      <td>5128e480-d5ed-11e8-a08a-ef76bd2a03c1</td>\n",
       "      <td>отделочник</td>\n",
       "      <td>, АО \"Владимирская обувная фабрика\", Полировка...</td>\n",
       "    </tr>\n",
       "    <tr>\n",
       "      <th>1285647</th>\n",
       "      <td>5761dfb0-1f32-11eb-b6f7-e37b4be0b9ed</td>\n",
       "      <td>заместитель</td>\n",
       "      <td>В период с 2016 по 2019 год участие в работе к...</td>\n",
       "    </tr>\n",
       "  </tbody>\n",
       "</table>\n",
       "</div>"
      ],
      "text/plain": [
       "                                        id_cv      job_title  \\\n",
       "4991509  664b8370-2a2a-11eb-87f0-bfd13399602c        уборщик   \n",
       "2602721  8d2a5f50-1ae8-11e9-95e0-ef76bd2a03c1       менеджер   \n",
       "1705935  fdfb73c0-03b9-11eb-9b0b-69632329477c      инспектор   \n",
       "1260048  27914f90-be91-11e8-bfef-736ab11edb0c    заместитель   \n",
       "1926751  f6d085e0-d00b-11ea-87bd-ef76bd2a03c1  комплектовщик   \n",
       "1613050  f7d34850-4c13-11ea-8c26-037acc02728d        инженер   \n",
       "864430   0c498cb0-80c9-11ea-b710-736ab11edb0c    гардеробщик   \n",
       "1791493  7b8f714a-0662-11e8-8956-037acc02728d         кассир   \n",
       "3205779  5128e480-d5ed-11e8-a08a-ef76bd2a03c1     отделочник   \n",
       "1285647  5761dfb0-1f32-11eb-b6f7-e37b4be0b9ed    заместитель   \n",
       "\n",
       "                                                 user_info  \n",
       "4991509  , Государственное бюджетное учреждение здравоо...  \n",
       "2602721  , ООО Камышинский завод слесарно-монтажного ин...  \n",
       "1705935  , Внуковская таможня, защита экономических инт...  \n",
       "1260048  , ФГАОУ ВО \"КФУ им. В.И. Вернадского\", Планиро...  \n",
       "1926751  , ОАО Пермский мясокомбинат, Комплектация заяв...  \n",
       "1613050  , ООО \"МПЗ\", Москва, Договорная и рекламационн...  \n",
       "864430              , МЛПУ ИРБ стомат.пол-ки, Приём одежды  \n",
       "1791493  , ООО \"Салют торг\", работа на кассе, выкладка ...  \n",
       "3205779  , АО \"Владимирская обувная фабрика\", Полировка...  \n",
       "1285647  В период с 2016 по 2019 год участие в работе к...  "
      ]
     },
     "execution_count": 70,
     "metadata": {},
     "output_type": "execute_result"
    }
   ],
   "source": [
    "df"
   ]
  },
  {
   "cell_type": "markdown",
   "id": "2d3bb978-4355-4120-8a28-719524afc710",
   "metadata": {
    "execution": {
     "iopub.execute_input": "2024-09-07T11:06:51.560834Z",
     "iopub.status.busy": "2024-09-07T11:06:51.560019Z",
     "iopub.status.idle": "2024-09-07T11:06:51.595356Z",
     "shell.execute_reply": "2024-09-07T11:06:51.594808Z",
     "shell.execute_reply.started": "2024-09-07T11:06:51.560810Z"
    },
    "jp-MarkdownHeadingCollapsed": true,
    "tags": []
   },
   "source": [
    "### Получение эмбеддингов"
   ]
  },
  {
   "cell_type": "markdown",
   "id": "30ee0aa4-eb36-4648-887d-34109281dbd5",
   "metadata": {},
   "source": [
    "Проверить выбор эмбеддинга"
   ]
  },
  {
   "cell_type": "code",
   "execution_count": null,
   "id": "9cf8e1ac-b375-4f78-b0f2-3c2b15509403",
   "metadata": {},
   "outputs": [],
   "source": [
    "model_name = \"DeepPavlov/rubert-base-cased\"\n",
    "tokenizer = AutoTokenizer.from_pretrained(model_name)\n",
    "model = AutoModel.from_pretrained(model_name)"
   ]
  },
  {
   "cell_type": "code",
   "execution_count": 66,
   "id": "dee324d2-cde5-49c1-ae32-c8d432b0d3cd",
   "metadata": {
    "execution": {
     "iopub.execute_input": "2024-09-07T11:09:30.166118Z",
     "iopub.status.busy": "2024-09-07T11:09:30.165011Z",
     "iopub.status.idle": "2024-09-07T11:09:30.192416Z",
     "shell.execute_reply": "2024-09-07T11:09:30.191883Z",
     "shell.execute_reply.started": "2024-09-07T11:09:30.166086Z"
    },
    "tags": []
   },
   "outputs": [],
   "source": [
    "def get_embeddings(texts):\n",
    "    # Токенизация текстов с добавлением специальных токенов и выравниванием\n",
    "    inputs = tokenizer(texts, padding=True, truncation=True, return_tensors='pt', max_length=512)\n",
    "    \n",
    "    # Прогон через модель для получения эмбеддингов\n",
    "    with torch.no_grad():\n",
    "        outputs = model(**inputs)\n",
    "    \n",
    "    # Используем среднее по всем токенам для получения одного эмбеддинга на текст\n",
    "    embeddings = outputs.last_hidden_state.mean(dim=1)\n",
    "    return embeddings"
   ]
  },
  {
   "cell_type": "code",
   "execution_count": null,
   "id": "6eea3a47-4a44-4cca-9952-e2fd6739cb24",
   "metadata": {},
   "outputs": [],
   "source": [
    "#df_vac = pd.read_csv('')"
   ]
  },
  {
   "cell_type": "code",
   "execution_count": 78,
   "id": "a24d682c-d855-4282-b0d2-eef90ba3b01e",
   "metadata": {
    "execution": {
     "iopub.execute_input": "2024-09-07T11:40:27.253943Z",
     "iopub.status.busy": "2024-09-07T11:40:27.253177Z",
     "iopub.status.idle": "2024-09-07T11:40:28.517505Z",
     "shell.execute_reply": "2024-09-07T11:40:28.516693Z",
     "shell.execute_reply.started": "2024-09-07T11:40:27.253915Z"
    }
   },
   "outputs": [],
   "source": [
    "candidate_embeddings = get_embeddings(list(df['user_info'].values))"
   ]
  },
  {
   "cell_type": "code",
   "execution_count": 83,
   "id": "57807194-a9f6-44eb-a55a-d91a5271b409",
   "metadata": {
    "execution": {
     "iopub.execute_input": "2024-09-07T11:40:50.956573Z",
     "iopub.status.busy": "2024-09-07T11:40:50.955672Z",
     "iopub.status.idle": "2024-09-07T11:40:51.075735Z",
     "shell.execute_reply": "2024-09-07T11:40:51.075126Z",
     "shell.execute_reply.started": "2024-09-07T11:40:50.956549Z"
    },
    "tags": []
   },
   "outputs": [],
   "source": [
    "job_embeddings = get_embeddings(list(df_vac['vac_info'].values))"
   ]
  },
  {
   "cell_type": "code",
   "execution_count": 91,
   "id": "80eb4291-acff-4b15-a959-c266d8ebaeba",
   "metadata": {
    "execution": {
     "iopub.execute_input": "2024-09-07T11:44:55.400117Z",
     "iopub.status.busy": "2024-09-07T11:44:55.399318Z",
     "iopub.status.idle": "2024-09-07T11:44:55.407771Z",
     "shell.execute_reply": "2024-09-07T11:44:55.407230Z",
     "shell.execute_reply.started": "2024-09-07T11:44:55.400090Z"
    }
   },
   "outputs": [],
   "source": [
    "vacancies = list(df_vac['vacancies'].values)"
   ]
  },
  {
   "cell_type": "markdown",
   "id": "3f6a5c3d-ad11-4657-84ad-3de776d00d12",
   "metadata": {
    "tags": []
   },
   "source": [
    "### Ищем топ 5 вакансий"
   ]
  },
  {
   "cell_type": "code",
   "execution_count": 87,
   "id": "c9dec465-734c-4c77-8599-a543a4f7987b",
   "metadata": {
    "execution": {
     "iopub.execute_input": "2024-09-07T11:42:22.171250Z",
     "iopub.status.busy": "2024-09-07T11:42:22.170412Z",
     "iopub.status.idle": "2024-09-07T11:42:22.184833Z",
     "shell.execute_reply": "2024-09-07T11:42:22.184267Z",
     "shell.execute_reply.started": "2024-09-07T11:42:22.171225Z"
    },
    "tags": []
   },
   "outputs": [],
   "source": [
    "similarity_matrix = cosine_similarity(candidate_embeddings, job_embeddings)"
   ]
  },
  {
   "cell_type": "code",
   "execution_count": 92,
   "id": "b4f95590-2ed5-4b7b-b5d8-08d600e5c2a3",
   "metadata": {
    "execution": {
     "iopub.execute_input": "2024-09-07T11:44:57.579627Z",
     "iopub.status.busy": "2024-09-07T11:44:57.578844Z",
     "iopub.status.idle": "2024-09-07T11:44:57.589481Z",
     "shell.execute_reply": "2024-09-07T11:44:57.588941Z",
     "shell.execute_reply.started": "2024-09-07T11:44:57.579603Z"
    },
    "scrolled": true,
    "tags": []
   },
   "outputs": [
    {
     "name": "stdout",
     "output_type": "stream",
     "text": [
      "Кандидат 1:\n",
      "Вакансия: заместитель, Сходство: 0.5077\n",
      "Вакансия: инспектор, Сходство: 0.3606\n",
      "Вакансия: гардеробщик, Сходство: 0.3456\n",
      "Вакансия: отделочник, Сходство: 0.3259\n",
      "Вакансия: кассир, Сходство: 0.3254\n",
      "\n",
      "\n",
      "Кандидат 2:\n",
      "Вакансия: заместитель, Сходство: 0.6200\n",
      "Вакансия: комплектовщик, Сходство: 0.5114\n",
      "Вакансия: инспектор, Сходство: 0.5070\n",
      "Вакансия: кассир, Сходство: 0.4982\n",
      "Вакансия: отделочник, Сходство: 0.4815\n",
      "\n",
      "\n",
      "Кандидат 3:\n",
      "Вакансия: заместитель, Сходство: 0.4101\n",
      "Вакансия: инспектор, Сходство: 0.3648\n",
      "Вакансия: гардеробщик, Сходство: 0.3515\n",
      "Вакансия: инженер, Сходство: 0.3488\n",
      "Вакансия: отделочник, Сходство: 0.3345\n",
      "\n",
      "\n",
      "Кандидат 4:\n",
      "Вакансия: заместитель, Сходство: 0.5396\n",
      "Вакансия: кассир, Сходство: 0.4810\n",
      "Вакансия: инспектор, Сходство: 0.4451\n",
      "Вакансия: гардеробщик, Сходство: 0.4224\n",
      "Вакансия: инженер, Сходство: 0.4129\n",
      "\n",
      "\n",
      "Кандидат 5:\n",
      "Вакансия: заместитель, Сходство: 0.4488\n",
      "Вакансия: отделочник, Сходство: 0.4262\n",
      "Вакансия: комплектовщик, Сходство: 0.4243\n",
      "Вакансия: гардеробщик, Сходство: 0.3856\n",
      "Вакансия: инспектор, Сходство: 0.3774\n",
      "\n",
      "\n",
      "Кандидат 6:\n",
      "Вакансия: заместитель, Сходство: 0.5850\n",
      "Вакансия: инспектор, Сходство: 0.5528\n",
      "Вакансия: отделочник, Сходство: 0.5462\n",
      "Вакансия: инженер, Сходство: 0.5426\n",
      "Вакансия: комплектовщик, Сходство: 0.5036\n",
      "\n",
      "\n",
      "Кандидат 7:\n",
      "Вакансия: гардеробщик, Сходство: 0.4199\n",
      "Вакансия: заместитель, Сходство: 0.3961\n",
      "Вакансия: отделочник, Сходство: 0.3680\n",
      "Вакансия: инженер, Сходство: 0.3263\n",
      "Вакансия: кассир, Сходство: 0.3060\n",
      "\n",
      "\n",
      "Кандидат 8:\n",
      "Вакансия: комплектовщик, Сходство: 0.4270\n",
      "Вакансия: кассир, Сходство: 0.3978\n",
      "Вакансия: заместитель, Сходство: 0.3953\n",
      "Вакансия: гардеробщик, Сходство: 0.3787\n",
      "Вакансия: отделочник, Сходство: 0.3774\n",
      "\n",
      "\n",
      "Кандидат 9:\n",
      "Вакансия: отделочник, Сходство: 0.4531\n",
      "Вакансия: гардеробщик, Сходство: 0.4185\n",
      "Вакансия: комплектовщик, Сходство: 0.3929\n",
      "Вакансия: заместитель, Сходство: 0.3600\n",
      "Вакансия: инженер, Сходство: 0.3502\n",
      "\n",
      "\n",
      "Кандидат 10:\n",
      "Вакансия: кассир, Сходство: 0.6828\n",
      "Вакансия: инспектор, Сходство: 0.6776\n",
      "Вакансия: комплектовщик, Сходство: 0.6484\n",
      "Вакансия: менеджер, Сходство: 0.6451\n",
      "Вакансия: отделочник, Сходство: 0.6347\n",
      "\n",
      "\n"
     ]
    }
   ],
   "source": [
    "# Создание итогового списка для каждого кандидата\n",
    "top_vacancies_per_candidate = []\n",
    "\n",
    "for i, similarities in enumerate(similarity_matrix):\n",
    "    # Индексы топ-5 вакансий\n",
    "    top_indices = np.argsort(similarities)[-5:][::-1]\n",
    "    top_vacancies = [(vacancies[j], similarities[j]) for j in top_indices]\n",
    "    top_vacancies_per_candidate.append(top_vacancies)"
   ]
  },
  {
   "cell_type": "code",
   "execution_count": 95,
   "id": "876714a5-9aaf-47fb-9221-f1d7c2d92032",
   "metadata": {
    "execution": {
     "iopub.execute_input": "2024-09-07T11:50:47.099988Z",
     "iopub.status.busy": "2024-09-07T11:50:47.099215Z",
     "iopub.status.idle": "2024-09-07T11:50:47.116437Z",
     "shell.execute_reply": "2024-09-07T11:50:47.115907Z",
     "shell.execute_reply.started": "2024-09-07T11:50:47.099965Z"
    },
    "tags": []
   },
   "outputs": [
    {
     "name": "stdout",
     "output_type": "stream",
     "text": [
      "Кандидат 1:\n",
      "Вакансия: заместитель, Сходство: 0.5077\n",
      "Вакансия: инспектор, Сходство: 0.3606\n",
      "Вакансия: гардеробщик, Сходство: 0.3456\n",
      "Вакансия: отделочник, Сходство: 0.3259\n",
      "Вакансия: кассир, Сходство: 0.3254\n",
      "\n",
      "\n",
      "Кандидат 2:\n",
      "Вакансия: заместитель, Сходство: 0.6200\n",
      "Вакансия: комплектовщик, Сходство: 0.5114\n",
      "Вакансия: инспектор, Сходство: 0.5070\n",
      "Вакансия: кассир, Сходство: 0.4982\n",
      "Вакансия: отделочник, Сходство: 0.4815\n",
      "\n",
      "\n",
      "Кандидат 3:\n",
      "Вакансия: заместитель, Сходство: 0.4101\n",
      "Вакансия: инспектор, Сходство: 0.3648\n",
      "Вакансия: гардеробщик, Сходство: 0.3515\n",
      "Вакансия: инженер, Сходство: 0.3488\n",
      "Вакансия: отделочник, Сходство: 0.3345\n",
      "\n",
      "\n",
      "Кандидат 4:\n",
      "Вакансия: заместитель, Сходство: 0.5396\n",
      "Вакансия: кассир, Сходство: 0.4810\n",
      "Вакансия: инспектор, Сходство: 0.4451\n",
      "Вакансия: гардеробщик, Сходство: 0.4224\n",
      "Вакансия: инженер, Сходство: 0.4129\n",
      "\n",
      "\n",
      "Кандидат 5:\n",
      "Вакансия: заместитель, Сходство: 0.4488\n",
      "Вакансия: отделочник, Сходство: 0.4262\n",
      "Вакансия: комплектовщик, Сходство: 0.4243\n",
      "Вакансия: гардеробщик, Сходство: 0.3856\n",
      "Вакансия: инспектор, Сходство: 0.3774\n",
      "\n",
      "\n",
      "Кандидат 6:\n",
      "Вакансия: заместитель, Сходство: 0.5850\n",
      "Вакансия: инспектор, Сходство: 0.5528\n",
      "Вакансия: отделочник, Сходство: 0.5462\n",
      "Вакансия: инженер, Сходство: 0.5426\n",
      "Вакансия: комплектовщик, Сходство: 0.5036\n",
      "\n",
      "\n",
      "Кандидат 7:\n",
      "Вакансия: гардеробщик, Сходство: 0.4199\n",
      "Вакансия: заместитель, Сходство: 0.3961\n",
      "Вакансия: отделочник, Сходство: 0.3680\n",
      "Вакансия: инженер, Сходство: 0.3263\n",
      "Вакансия: кассир, Сходство: 0.3060\n",
      "\n",
      "\n",
      "Кандидат 8:\n",
      "Вакансия: комплектовщик, Сходство: 0.4270\n",
      "Вакансия: кассир, Сходство: 0.3978\n",
      "Вакансия: заместитель, Сходство: 0.3953\n",
      "Вакансия: гардеробщик, Сходство: 0.3787\n",
      "Вакансия: отделочник, Сходство: 0.3774\n",
      "\n",
      "\n",
      "Кандидат 9:\n",
      "Вакансия: отделочник, Сходство: 0.4531\n",
      "Вакансия: гардеробщик, Сходство: 0.4185\n",
      "Вакансия: комплектовщик, Сходство: 0.3929\n",
      "Вакансия: заместитель, Сходство: 0.3600\n",
      "Вакансия: инженер, Сходство: 0.3502\n",
      "\n",
      "\n",
      "Кандидат 10:\n",
      "Вакансия: кассир, Сходство: 0.6828\n",
      "Вакансия: инспектор, Сходство: 0.6776\n",
      "Вакансия: комплектовщик, Сходство: 0.6484\n",
      "Вакансия: менеджер, Сходство: 0.6451\n",
      "Вакансия: отделочник, Сходство: 0.6347\n",
      "\n",
      "\n"
     ]
    }
   ],
   "source": [
    "# Вывод результатов\n",
    "for i, top_vacancies in enumerate(top_vacancies_per_candidate):\n",
    "    print(f\"Кандидат {i+1}:\")\n",
    "    for vacancy, similarity in top_vacancies:\n",
    "        print(f\"Вакансия: {vacancy}, Сходство: {similarity:.4f}\")\n",
    "    print(\"\\n\")"
   ]
  },
  {
   "cell_type": "code",
   "execution_count": 94,
   "id": "b6796c63-a1ce-4636-9c31-6840989e797c",
   "metadata": {
    "execution": {
     "iopub.execute_input": "2024-09-07T11:45:41.674547Z",
     "iopub.status.busy": "2024-09-07T11:45:41.673749Z",
     "iopub.status.idle": "2024-09-07T11:45:41.703104Z",
     "shell.execute_reply": "2024-09-07T11:45:41.702467Z",
     "shell.execute_reply.started": "2024-09-07T11:45:41.674524Z"
    },
    "tags": []
   },
   "outputs": [
    {
     "data": {
      "text/html": [
       "<div>\n",
       "<style scoped>\n",
       "    .dataframe tbody tr th:only-of-type {\n",
       "        vertical-align: middle;\n",
       "    }\n",
       "\n",
       "    .dataframe tbody tr th {\n",
       "        vertical-align: top;\n",
       "    }\n",
       "\n",
       "    .dataframe thead th {\n",
       "        text-align: right;\n",
       "    }\n",
       "</style>\n",
       "<table border=\"1\" class=\"dataframe\">\n",
       "  <thead>\n",
       "    <tr style=\"text-align: right;\">\n",
       "      <th></th>\n",
       "      <th>id_cv</th>\n",
       "      <th>job_title</th>\n",
       "      <th>user_info</th>\n",
       "    </tr>\n",
       "  </thead>\n",
       "  <tbody>\n",
       "    <tr>\n",
       "      <th>4991509</th>\n",
       "      <td>664b8370-2a2a-11eb-87f0-bfd13399602c</td>\n",
       "      <td>уборщик</td>\n",
       "      <td>, Государственное бюджетное учреждение здравоо...</td>\n",
       "    </tr>\n",
       "    <tr>\n",
       "      <th>2602721</th>\n",
       "      <td>8d2a5f50-1ae8-11e9-95e0-ef76bd2a03c1</td>\n",
       "      <td>менеджер</td>\n",
       "      <td>, ООО Камышинский завод слесарно-монтажного ин...</td>\n",
       "    </tr>\n",
       "    <tr>\n",
       "      <th>1705935</th>\n",
       "      <td>fdfb73c0-03b9-11eb-9b0b-69632329477c</td>\n",
       "      <td>инспектор</td>\n",
       "      <td>, Внуковская таможня, защита экономических инт...</td>\n",
       "    </tr>\n",
       "    <tr>\n",
       "      <th>1260048</th>\n",
       "      <td>27914f90-be91-11e8-bfef-736ab11edb0c</td>\n",
       "      <td>заместитель</td>\n",
       "      <td>, ФГАОУ ВО \"КФУ им. В.И. Вернадского\", Планиро...</td>\n",
       "    </tr>\n",
       "    <tr>\n",
       "      <th>1926751</th>\n",
       "      <td>f6d085e0-d00b-11ea-87bd-ef76bd2a03c1</td>\n",
       "      <td>комплектовщик</td>\n",
       "      <td>, ОАО Пермский мясокомбинат, Комплектация заяв...</td>\n",
       "    </tr>\n",
       "    <tr>\n",
       "      <th>1613050</th>\n",
       "      <td>f7d34850-4c13-11ea-8c26-037acc02728d</td>\n",
       "      <td>инженер</td>\n",
       "      <td>, ООО \"МПЗ\", Москва, Договорная и рекламационн...</td>\n",
       "    </tr>\n",
       "    <tr>\n",
       "      <th>864430</th>\n",
       "      <td>0c498cb0-80c9-11ea-b710-736ab11edb0c</td>\n",
       "      <td>гардеробщик</td>\n",
       "      <td>, МЛПУ ИРБ стомат.пол-ки, Приём одежды</td>\n",
       "    </tr>\n",
       "    <tr>\n",
       "      <th>1791493</th>\n",
       "      <td>7b8f714a-0662-11e8-8956-037acc02728d</td>\n",
       "      <td>кассир</td>\n",
       "      <td>, ООО \"Салют торг\", работа на кассе, выкладка ...</td>\n",
       "    </tr>\n",
       "    <tr>\n",
       "      <th>3205779</th>\n",
       "      <td>5128e480-d5ed-11e8-a08a-ef76bd2a03c1</td>\n",
       "      <td>отделочник</td>\n",
       "      <td>, АО \"Владимирская обувная фабрика\", Полировка...</td>\n",
       "    </tr>\n",
       "    <tr>\n",
       "      <th>1285647</th>\n",
       "      <td>5761dfb0-1f32-11eb-b6f7-e37b4be0b9ed</td>\n",
       "      <td>заместитель</td>\n",
       "      <td>В период с 2016 по 2019 год участие в работе к...</td>\n",
       "    </tr>\n",
       "  </tbody>\n",
       "</table>\n",
       "</div>"
      ],
      "text/plain": [
       "                                        id_cv      job_title  \\\n",
       "4991509  664b8370-2a2a-11eb-87f0-bfd13399602c        уборщик   \n",
       "2602721  8d2a5f50-1ae8-11e9-95e0-ef76bd2a03c1       менеджер   \n",
       "1705935  fdfb73c0-03b9-11eb-9b0b-69632329477c      инспектор   \n",
       "1260048  27914f90-be91-11e8-bfef-736ab11edb0c    заместитель   \n",
       "1926751  f6d085e0-d00b-11ea-87bd-ef76bd2a03c1  комплектовщик   \n",
       "1613050  f7d34850-4c13-11ea-8c26-037acc02728d        инженер   \n",
       "864430   0c498cb0-80c9-11ea-b710-736ab11edb0c    гардеробщик   \n",
       "1791493  7b8f714a-0662-11e8-8956-037acc02728d         кассир   \n",
       "3205779  5128e480-d5ed-11e8-a08a-ef76bd2a03c1     отделочник   \n",
       "1285647  5761dfb0-1f32-11eb-b6f7-e37b4be0b9ed    заместитель   \n",
       "\n",
       "                                                 user_info  \n",
       "4991509  , Государственное бюджетное учреждение здравоо...  \n",
       "2602721  , ООО Камышинский завод слесарно-монтажного ин...  \n",
       "1705935  , Внуковская таможня, защита экономических инт...  \n",
       "1260048  , ФГАОУ ВО \"КФУ им. В.И. Вернадского\", Планиро...  \n",
       "1926751  , ОАО Пермский мясокомбинат, Комплектация заяв...  \n",
       "1613050  , ООО \"МПЗ\", Москва, Договорная и рекламационн...  \n",
       "864430              , МЛПУ ИРБ стомат.пол-ки, Приём одежды  \n",
       "1791493  , ООО \"Салют торг\", работа на кассе, выкладка ...  \n",
       "3205779  , АО \"Владимирская обувная фабрика\", Полировка...  \n",
       "1285647  В период с 2016 по 2019 год участие в работе к...  "
      ]
     },
     "execution_count": 94,
     "metadata": {},
     "output_type": "execute_result"
    }
   ],
   "source": [
    "df.head(10)"
   ]
  },
  {
   "cell_type": "markdown",
   "id": "e81c087a-3280-4575-9e70-d3226fa10965",
   "metadata": {},
   "source": [
    "## Предсказание топ 5 подходящих вакансий с помощью ключевых слов"
   ]
  }
 ],
 "metadata": {
  "kernelspec": {
   "display_name": "Python 3 (ipykernel)",
   "language": "python",
   "name": "python3"
  },
  "language_info": {
   "codemirror_mode": {
    "name": "ipython",
    "version": 3
   },
   "file_extension": ".py",
   "mimetype": "text/x-python",
   "name": "python",
   "nbconvert_exporter": "python",
   "pygments_lexer": "ipython3",
   "version": "3.11.8"
  }
 },
 "nbformat": 4,
 "nbformat_minor": 5
}
